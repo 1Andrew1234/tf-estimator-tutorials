{
 "cells": [
  {
   "cell_type": "markdown",
   "metadata": {},
   "source": [
    "## 1. Initialize settings"
   ]
  },
  {
   "cell_type": "code",
   "execution_count": 1,
   "metadata": {},
   "outputs": [],
   "source": [
    "# change these to try this notebook out\n",
    "BUCKET = 'cloudonair-ml-demo'\n",
    "PROJECT = 'cloudonair-ml-demo'\n",
    "REGION = 'us-central1'"
   ]
  },
  {
   "cell_type": "code",
   "execution_count": 2,
   "metadata": {},
   "outputs": [],
   "source": [
    "import os\n",
    "\n",
    "os.environ['BUCKET'] = BUCKET\n",
    "os.environ['PROJECT'] = PROJECT\n",
    "os.environ['REGION'] = REGION"
   ]
  },
  {
   "cell_type": "code",
   "execution_count": 3,
   "metadata": {},
   "outputs": [
    {
     "name": "stderr",
     "output_type": "stream",
     "text": [
      "Updated property [core/project].\n",
      "Updated property [compute/region].\n"
     ]
    }
   ],
   "source": [
    "%%bash\n",
    "\n",
    "gcloud config set project $PROJECT\n",
    "gcloud config set compute/region $REGION"
   ]
  },
  {
   "cell_type": "markdown",
   "metadata": {},
   "source": [
    "## 2. Explore Natality dataset"
   ]
  },
  {
   "cell_type": "code",
   "execution_count": 4,
   "metadata": {},
   "outputs": [],
   "source": [
    "# Create SQL query using natality data after the year 2000\n",
    "query = \"\"\"\n",
    "SELECT\n",
    "  weight_pounds,\n",
    "  is_male,\n",
    "  mother_age,\n",
    "  plurality,\n",
    "  gestation_weeks\n",
    "FROM\n",
    "  publicdata.samples.natality\n",
    "WHERE year > 2000\n",
    "LIMIT 100\n",
    "\"\"\""
   ]
  },
  {
   "cell_type": "code",
   "execution_count": 5,
   "metadata": {},
   "outputs": [
    {
     "data": {
      "text/html": [
       "<div>\n",
       "<style scoped>\n",
       "    .dataframe tbody tr th:only-of-type {\n",
       "        vertical-align: middle;\n",
       "    }\n",
       "\n",
       "    .dataframe tbody tr th {\n",
       "        vertical-align: top;\n",
       "    }\n",
       "\n",
       "    .dataframe thead th {\n",
       "        text-align: right;\n",
       "    }\n",
       "</style>\n",
       "<table border=\"1\" class=\"dataframe\">\n",
       "  <thead>\n",
       "    <tr style=\"text-align: right;\">\n",
       "      <th></th>\n",
       "      <th>weight_pounds</th>\n",
       "      <th>is_male</th>\n",
       "      <th>mother_age</th>\n",
       "      <th>plurality</th>\n",
       "      <th>gestation_weeks</th>\n",
       "    </tr>\n",
       "  </thead>\n",
       "  <tbody>\n",
       "    <tr>\n",
       "      <th>0</th>\n",
       "      <td>3.562670</td>\n",
       "      <td>True</td>\n",
       "      <td>25</td>\n",
       "      <td>1</td>\n",
       "      <td>30</td>\n",
       "    </tr>\n",
       "    <tr>\n",
       "      <th>1</th>\n",
       "      <td>3.999185</td>\n",
       "      <td>False</td>\n",
       "      <td>30</td>\n",
       "      <td>1</td>\n",
       "      <td>32</td>\n",
       "    </tr>\n",
       "    <tr>\n",
       "      <th>2</th>\n",
       "      <td>7.438397</td>\n",
       "      <td>True</td>\n",
       "      <td>13</td>\n",
       "      <td>1</td>\n",
       "      <td>34</td>\n",
       "    </tr>\n",
       "    <tr>\n",
       "      <th>3</th>\n",
       "      <td>4.806077</td>\n",
       "      <td>True</td>\n",
       "      <td>19</td>\n",
       "      <td>1</td>\n",
       "      <td>34</td>\n",
       "    </tr>\n",
       "    <tr>\n",
       "      <th>4</th>\n",
       "      <td>4.812691</td>\n",
       "      <td>True</td>\n",
       "      <td>22</td>\n",
       "      <td>3</td>\n",
       "      <td>34</td>\n",
       "    </tr>\n",
       "  </tbody>\n",
       "</table>\n",
       "</div>"
      ],
      "text/plain": [
       "   weight_pounds  is_male  mother_age  plurality  gestation_weeks\n",
       "0       3.562670     True          25          1               30\n",
       "1       3.999185    False          30          1               32\n",
       "2       7.438397     True          13          1               34\n",
       "3       4.806077     True          19          1               34\n",
       "4       4.812691     True          22          3               34"
      ]
     },
     "execution_count": 5,
     "metadata": {},
     "output_type": "execute_result"
    }
   ],
   "source": [
    "# Call BigQuery and examine in dataframe\n",
    "import pandas\n",
    "from pandas.io import gbq\n",
    "\n",
    "df = gbq.read_gbq(query=query, dialect='standard', project_id=os.environ['PROJECT'])\n",
    "df.head()"
   ]
  },
  {
   "cell_type": "markdown",
   "metadata": {},
   "source": [
    "## 3. Training on Cloud ML Engine"
   ]
  },
  {
   "cell_type": "code",
   "execution_count": 6,
   "metadata": {},
   "outputs": [],
   "source": [
    "%%bash\n",
    "\n",
    "if ! gsutil ls | grep -q gs://${BUCKET}/; then\n",
    "  gsutil mb -l ${REGION} gs://${BUCKET}\n",
    "  # copy canonical set of preprocessed files if you didn't do previous notebook\n",
    "  gsutil -m cp -R gs://cloud-training-demos/babyweight gs://${BUCKET}\n",
    "fi"
   ]
  },
  {
   "cell_type": "code",
   "execution_count": 7,
   "metadata": {},
   "outputs": [
    {
     "name": "stdout",
     "output_type": "stream",
     "text": [
      "gs://cloudonair-ml-demo/babyweight/preproc/eval.csv-00000-of-00012\n",
      "gs://cloudonair-ml-demo/babyweight/preproc/train.csv-00000-of-00043\n"
     ]
    }
   ],
   "source": [
    "%%bash\n",
    "\n",
    "gsutil ls gs://${BUCKET}/babyweight/preproc/*-00000*"
   ]
  },
  {
   "cell_type": "code",
   "execution_count": 13,
   "metadata": {},
   "outputs": [
    {
     "name": "stdout",
     "output_type": "stream",
     "text": [
      "gs://cloudonair-ml-demo/babyweight/trained_model us-central1 babyweight_180516_034734\n",
      "jobId: babyweight_180516_034734\n",
      "state: QUEUED\n"
     ]
    },
    {
     "name": "stderr",
     "output_type": "stream",
     "text": [
      "CommandException: 1 files/objects could not be removed.\n",
      "Job [babyweight_180516_034734] submitted successfully.\n",
      "Your job is still active. You may view the status of your job with the command\n",
      "\n",
      "  $ gcloud ml-engine jobs describe babyweight_180516_034734\n",
      "\n",
      "or continue streaming the logs with the command\n",
      "\n",
      "  $ gcloud ml-engine jobs stream-logs babyweight_180516_034734\n"
     ]
    }
   ],
   "source": [
    "%%bash\n",
    "\n",
    "OUTDIR=gs://${BUCKET}/babyweight/trained_model\n",
    "JOBNAME=babyweight_$(date -u +%y%m%d_%H%M%S)\n",
    "echo $OUTDIR $REGION $JOBNAME\n",
    "\n",
    "gsutil -m rm -rf $OUTDIR\n",
    "\n",
    "gcloud ml-engine jobs submit training $JOBNAME \\\n",
    "  --region=$REGION \\\n",
    "  --module-name=trainer.task \\\n",
    "  --package-path=$(pwd)/model_evaluation_pipeline/trainer \\\n",
    "  --job-dir=$OUTDIR \\\n",
    "  --staging-bucket=gs://$BUCKET \\\n",
    "  --scale-tier=STANDARD_1 \\\n",
    "  --runtime-version=1.4 \\\n",
    "  -- \\\n",
    "  --bucket=${BUCKET} \\\n",
    "  --output_dir=${OUTDIR} \\\n",
    "  --train_examples=200000"
   ]
  },
  {
   "cell_type": "markdown",
   "metadata": {},
   "source": [
    "## 3. Get a saved model directory"
   ]
  },
  {
   "cell_type": "code",
   "execution_count": 9,
   "metadata": {},
   "outputs": [],
   "source": [
    "import datetime\n",
    "import os\n",
    "import pytz\n",
    "import re\n",
    "import urllib\n",
    "\n",
    "from google.cloud import storage\n",
    "\n",
    "def get_saved_model_dir(bucket, pattern='.*/babyweight/.*/saved_model.pb'):\n",
    "  created_time = datetime.datetime(datetime.MINYEAR, 1, 1, tzinfo=pytz.timezone('UTC'))\n",
    "  recent_model_path = None\n",
    "\n",
    "  p = re.compile(pattern)\n",
    "  \n",
    "  for blob in storage.Client().bucket(bucket).list_blobs():\n",
    "    if p.match(urllib.unquote(blob.path)):\n",
    "      if created_time < blob.time_created:\n",
    "        recent_model_path = blob.path\n",
    "        created_time = blob.time_created\n",
    "\n",
    "  saved_model = urllib.unquote(recent_model_path.split('/')[-1])\n",
    "  saved_model_dir = '/'.join(saved_model.split('/')[:-1])\n",
    "  return 'gs://{0}/{1}'.format(os.environ['BUCKET'], saved_model_dir)\n",
    "\n",
    "saved_model_dir = get_saved_model_dir(os.environ['BUCKET'])\n",
    "\n",
    "if saved_model_dir:\n",
    "  os.environ['SAVED_MODEL_DIR'] = saved_model_dir\n",
    "else:\n",
    "  print('wait until saved_model.pb is written by Cloud ML Engine...')"
   ]
  },
  {
   "cell_type": "markdown",
   "metadata": {},
   "source": [
    "## 4. Testing an evaluation pipeline with DirectRunner"
   ]
  },
  {
   "cell_type": "markdown",
   "metadata": {},
   "source": [
    "### Configure a DirectRunner job"
   ]
  },
  {
   "cell_type": "code",
   "execution_count": 10,
   "metadata": {},
   "outputs": [],
   "source": [
    "import os\n",
    "import datetime\n",
    "\n",
    "os.environ['RUNNER'] = 'DirectRunner'\n",
    "os.environ['JOB_NAME'] = 'evaluate-ml-model-{0}'.format(datetime.datetime.now().strftime('%y%m%d-%H%M%S'))\n",
    "os.environ['OUTPUT_TABLE'] = 'cloudonair-ml-demo:model_evaluation.sample'"
   ]
  },
  {
   "cell_type": "markdown",
   "metadata": {},
   "source": [
    "### Execute a DirectRunner job"
   ]
  },
  {
   "cell_type": "code",
   "execution_count": 13,
   "metadata": {},
   "outputs": [
    {
     "name": "stderr",
     "output_type": "stream",
     "text": [
      "/usr/local/google/home/yaboo/Work/tf-estimator-tutorials/00_Miscellaneous/venv/lib/python2.7/site-packages/apache_beam/runners/direct/direct_runner.py:337: DeprecationWarning: options is deprecated since First stable release.. References to <pipeline>.options will not be supported\n",
      "  pipeline.replace_all(_get_transform_overrides(pipeline.options))\n",
      "INFO:root:Running pipeline with DirectRunner.\n",
      "INFO:oauth2client.transport:Attempting refresh to obtain initial access_token\n",
      "INFO:oauth2client.client:Refreshing access_token\n",
      "WARNING:root:Dataset cloudonair-ml-demo:temp_dataset_60c658617bb54aeba84b57a44f2a4e9f does not exist so we will create it as temporary with location=None\n",
      "INFO:root:initializing predictor...\n",
      "2018-05-18 10:41:46.540789: I tensorflow/core/platform/cpu_feature_guard.cc:140] Your CPU supports instructions that this TensorFlow binary was not compiled to use: AVX2 FMA\n",
      "INFO:oauth2client.transport:Attempting refresh to obtain initial access_token\n",
      "INFO:oauth2client.client:Refreshing access_token\n",
      "INFO:root:Writing 100 rows to cloudonair-ml-demo:model_evaluation.sample table.\n"
     ]
    }
   ],
   "source": [
    "%%bash\n",
    "\n",
    "cd $(pwd)/model_evaluation_pipeline/evaluator\n",
    "\n",
    "python -m main \\\n",
    "  --datasize=100 \\\n",
    "  --year_from=1974 \\\n",
    "  --year_to=1978 \\\n",
    "  --saved_model_dir=${SAVED_MODEL_DIR} \\\n",
    "  --output_table=${OUTPUT_TABLE} \\\n",
    "  --project=${PROJECT} \\\n",
    "  --runner=DirectRunner \\\n",
    "  --region=${REGION} \\\n",
    "  --job_name=${JOB_NAME}"
   ]
  },
  {
   "cell_type": "markdown",
   "metadata": {},
   "source": [
    "### Show results of a DirectRunner Job"
   ]
  },
  {
   "cell_type": "code",
   "execution_count": 14,
   "metadata": {},
   "outputs": [
    {
     "data": {
      "text/html": [
       "<div>\n",
       "<style scoped>\n",
       "    .dataframe tbody tr th:only-of-type {\n",
       "        vertical-align: middle;\n",
       "    }\n",
       "\n",
       "    .dataframe tbody tr th {\n",
       "        vertical-align: top;\n",
       "    }\n",
       "\n",
       "    .dataframe thead th {\n",
       "        text-align: right;\n",
       "    }\n",
       "</style>\n",
       "<table border=\"1\" class=\"dataframe\">\n",
       "  <thead>\n",
       "    <tr style=\"text-align: right;\">\n",
       "      <th></th>\n",
       "      <th>is_male</th>\n",
       "      <th>mother_age</th>\n",
       "      <th>plurality</th>\n",
       "      <th>gestation_weeks</th>\n",
       "      <th>weight_true</th>\n",
       "      <th>weight_predicted</th>\n",
       "      <th>weight_residual</th>\n",
       "      <th>model</th>\n",
       "      <th>testdata</th>\n",
       "      <th>time_inference</th>\n",
       "    </tr>\n",
       "  </thead>\n",
       "  <tbody>\n",
       "    <tr>\n",
       "      <th>0</th>\n",
       "      <td>True</td>\n",
       "      <td>22</td>\n",
       "      <td>Single(1)</td>\n",
       "      <td>39</td>\n",
       "      <td>7.312733</td>\n",
       "      <td>7.650989</td>\n",
       "      <td>-0.338255</td>\n",
       "      <td>gs://cloudonair-ml-demo/babyweight/trained_mod...</td>\n",
       "      <td>1969-1973</td>\n",
       "      <td>0.811100</td>\n",
       "    </tr>\n",
       "    <tr>\n",
       "      <th>1</th>\n",
       "      <td>True</td>\n",
       "      <td>25</td>\n",
       "      <td>Single(1)</td>\n",
       "      <td>39</td>\n",
       "      <td>6.499227</td>\n",
       "      <td>7.656961</td>\n",
       "      <td>-1.157734</td>\n",
       "      <td>gs://cloudonair-ml-demo/babyweight/trained_mod...</td>\n",
       "      <td>1969-1973</td>\n",
       "      <td>0.864983</td>\n",
       "    </tr>\n",
       "    <tr>\n",
       "      <th>2</th>\n",
       "      <td>True</td>\n",
       "      <td>23</td>\n",
       "      <td>Single(1)</td>\n",
       "      <td>39</td>\n",
       "      <td>5.937049</td>\n",
       "      <td>7.777191</td>\n",
       "      <td>-1.840142</td>\n",
       "      <td>gs://cloudonair-ml-demo/babyweight/trained_mod...</td>\n",
       "      <td>1969-1973</td>\n",
       "      <td>0.840187</td>\n",
       "    </tr>\n",
       "    <tr>\n",
       "      <th>3</th>\n",
       "      <td>False</td>\n",
       "      <td>31</td>\n",
       "      <td>Single(1)</td>\n",
       "      <td>33</td>\n",
       "      <td>4.186578</td>\n",
       "      <td>5.419439</td>\n",
       "      <td>-1.232861</td>\n",
       "      <td>gs://cloudonair-ml-demo/babyweight/trained_mod...</td>\n",
       "      <td>1969-1973</td>\n",
       "      <td>0.910044</td>\n",
       "    </tr>\n",
       "    <tr>\n",
       "      <th>4</th>\n",
       "      <td>False</td>\n",
       "      <td>21</td>\n",
       "      <td>Single(1)</td>\n",
       "      <td>42</td>\n",
       "      <td>8.999270</td>\n",
       "      <td>7.681918</td>\n",
       "      <td>1.317352</td>\n",
       "      <td>gs://cloudonair-ml-demo/babyweight/trained_mod...</td>\n",
       "      <td>1969-1973</td>\n",
       "      <td>0.992060</td>\n",
       "    </tr>\n",
       "  </tbody>\n",
       "</table>\n",
       "</div>"
      ],
      "text/plain": [
       "  is_male  mother_age  plurality  gestation_weeks  weight_true  \\\n",
       "0    True          22  Single(1)               39     7.312733   \n",
       "1    True          25  Single(1)               39     6.499227   \n",
       "2    True          23  Single(1)               39     5.937049   \n",
       "3   False          31  Single(1)               33     4.186578   \n",
       "4   False          21  Single(1)               42     8.999270   \n",
       "\n",
       "   weight_predicted  weight_residual  \\\n",
       "0          7.650989        -0.338255   \n",
       "1          7.656961        -1.157734   \n",
       "2          7.777191        -1.840142   \n",
       "3          5.419439        -1.232861   \n",
       "4          7.681918         1.317352   \n",
       "\n",
       "                                               model   testdata  \\\n",
       "0  gs://cloudonair-ml-demo/babyweight/trained_mod...  1969-1973   \n",
       "1  gs://cloudonair-ml-demo/babyweight/trained_mod...  1969-1973   \n",
       "2  gs://cloudonair-ml-demo/babyweight/trained_mod...  1969-1973   \n",
       "3  gs://cloudonair-ml-demo/babyweight/trained_mod...  1969-1973   \n",
       "4  gs://cloudonair-ml-demo/babyweight/trained_mod...  1969-1973   \n",
       "\n",
       "   time_inference  \n",
       "0        0.811100  \n",
       "1        0.864983  \n",
       "2        0.840187  \n",
       "3        0.910044  \n",
       "4        0.992060  "
      ]
     },
     "execution_count": 14,
     "metadata": {},
     "output_type": "execute_result"
    }
   ],
   "source": [
    "import pandas\n",
    "from pandas.io import gbq\n",
    "\n",
    "query = \"\"\"\n",
    "SELECT * FROM `{0}` LIMIT 10\n",
    "\"\"\".format(os.environ['OUTPUT_TABLE'].replace(':', '.'))\n",
    "\n",
    "df = gbq.read_gbq(query=query, dialect='standard', project_id=os.environ['PROJECT'])\n",
    "df.head()"
   ]
  },
  {
   "cell_type": "code",
   "execution_count": 15,
   "metadata": {},
   "outputs": [
    {
     "data": {
      "text/html": [
       "<div>\n",
       "<style scoped>\n",
       "    .dataframe tbody tr th:only-of-type {\n",
       "        vertical-align: middle;\n",
       "    }\n",
       "\n",
       "    .dataframe tbody tr th {\n",
       "        vertical-align: top;\n",
       "    }\n",
       "\n",
       "    .dataframe thead th {\n",
       "        text-align: right;\n",
       "    }\n",
       "</style>\n",
       "<table border=\"1\" class=\"dataframe\">\n",
       "  <thead>\n",
       "    <tr style=\"text-align: right;\">\n",
       "      <th></th>\n",
       "      <th>model</th>\n",
       "      <th>testdata</th>\n",
       "      <th>RMSE</th>\n",
       "      <th>AVG_MSEC</th>\n",
       "    </tr>\n",
       "  </thead>\n",
       "  <tbody>\n",
       "    <tr>\n",
       "      <th>0</th>\n",
       "      <td>gs://cloudonair-ml-demo/babyweight/trained_mod...</td>\n",
       "      <td>1974-1978</td>\n",
       "      <td>1.031156</td>\n",
       "      <td>2.557452</td>\n",
       "    </tr>\n",
       "    <tr>\n",
       "      <th>1</th>\n",
       "      <td>gs://cloudonair-ml-demo/babyweight/trained_mod...</td>\n",
       "      <td>1969-1973</td>\n",
       "      <td>1.055592</td>\n",
       "      <td>2.952533</td>\n",
       "    </tr>\n",
       "  </tbody>\n",
       "</table>\n",
       "</div>"
      ],
      "text/plain": [
       "                                               model   testdata      RMSE  \\\n",
       "0  gs://cloudonair-ml-demo/babyweight/trained_mod...  1974-1978  1.031156   \n",
       "1  gs://cloudonair-ml-demo/babyweight/trained_mod...  1969-1973  1.055592   \n",
       "\n",
       "   AVG_MSEC  \n",
       "0  2.557452  \n",
       "1  2.952533  "
      ]
     },
     "execution_count": 15,
     "metadata": {},
     "output_type": "execute_result"
    }
   ],
   "source": [
    "import pandas\n",
    "from pandas.io import gbq\n",
    "\n",
    "query = \"\"\"\n",
    "SELECT\n",
    "  model,\n",
    "  testdata,\n",
    "  SQRT(SUM(POW(weight_residual,2))/COUNT(*)) AS RMSE,\n",
    "  AVG(time_inference) AS AVG_MSEC\n",
    "FROM\n",
    "  `{0}`\n",
    "GROUP BY\n",
    "  model, testdata\n",
    "\"\"\".format(os.environ['OUTPUT_TABLE'].replace(':', '.'))\n",
    "\n",
    "df = gbq.read_gbq(query=query, dialect='standard', project_id=os.environ['PROJECT'])\n",
    "df.head()"
   ]
  },
  {
   "cell_type": "markdown",
   "metadata": {},
   "source": [
    "## 5. Running an evaluation pipeline with DataflowRunner"
   ]
  },
  {
   "cell_type": "markdown",
   "metadata": {},
   "source": [
    "### Configure a Dataflow job"
   ]
  },
  {
   "cell_type": "code",
   "execution_count": 115,
   "metadata": {
    "collapsed": true
   },
   "outputs": [],
   "source": [
    "import os\n",
    "import datetime\n",
    "\n",
    "os.environ['RUNNER'] = 'DataflowRunner'\n",
    "os.environ['STAGING_LOCATION'] = 'gs://{0}/babyweight/staging'.format(os.environ['BUCKET'])\n",
    "os.environ['TEMP_LOCATION'] = 'gs://{0}/babyweight/temp'.format(os.environ['BUCKET'])\n",
    "os.environ['JOB_NAME'] = 'evaluate-ml-model-{0}'.format(datetime.datetime.now().strftime('%y%m%d-%H%M%S'))\n",
    "os.environ['OUTPUT_TABLE'] = 'cloudonair-ml-demo:model_evaluation.prediction_results'"
   ]
  },
  {
   "cell_type": "markdown",
   "metadata": {},
   "source": [
    "### Execute a Dataflow job"
   ]
  },
  {
   "cell_type": "code",
   "execution_count": 116,
   "metadata": {
    "scrolled": true
   },
   "outputs": [
    {
     "name": "stdout",
     "output_type": "stream",
     "text": [
      "running sdist\n",
      "running egg_info\n",
      "writing requirements to model_evaluation_demo.egg-info/requires.txt\n",
      "writing model_evaluation_demo.egg-info/PKG-INFO\n",
      "writing top-level names to model_evaluation_demo.egg-info/top_level.txt\n",
      "writing dependency_links to model_evaluation_demo.egg-info/dependency_links.txt\n",
      "reading manifest file 'model_evaluation_demo.egg-info/SOURCES.txt'\n",
      "writing manifest file 'model_evaluation_demo.egg-info/SOURCES.txt'\n",
      "running check\n",
      "creating model-evaluation-demo-0.1\n",
      "creating model-evaluation-demo-0.1/model_evaluation_demo.egg-info\n",
      "creating model-evaluation-demo-0.1/process\n",
      "copying files to model-evaluation-demo-0.1...\n",
      "copying setup.py -> model-evaluation-demo-0.1\n",
      "copying model_evaluation_demo.egg-info/PKG-INFO -> model-evaluation-demo-0.1/model_evaluation_demo.egg-info\n",
      "copying model_evaluation_demo.egg-info/SOURCES.txt -> model-evaluation-demo-0.1/model_evaluation_demo.egg-info\n",
      "copying model_evaluation_demo.egg-info/dependency_links.txt -> model-evaluation-demo-0.1/model_evaluation_demo.egg-info\n",
      "copying model_evaluation_demo.egg-info/requires.txt -> model-evaluation-demo-0.1/model_evaluation_demo.egg-info\n",
      "copying model_evaluation_demo.egg-info/top_level.txt -> model-evaluation-demo-0.1/model_evaluation_demo.egg-info\n",
      "copying process/__init__.py -> model-evaluation-demo-0.1/process\n",
      "copying process/inference.py -> model-evaluation-demo-0.1/process\n",
      "copying process/pipeline.py -> model-evaluation-demo-0.1/process\n",
      "Writing model-evaluation-demo-0.1/setup.cfg\n",
      "Creating tar archive\n",
      "removing 'model-evaluation-demo-0.1' (and everything under it)\n",
      "Collecting google-cloud-dataflow==2.0.0\n",
      "  Using cached https://files.pythonhosted.org/packages/4f/26/088febc828e5815fd2daad701ca3c7754e71de31b0435fb8654c1b4ef92b/google-cloud-dataflow-2.0.0.tar.gz\n",
      "  Saved /tmp/tmp3Rn27k/google-cloud-dataflow-2.0.0.tar.gz\n",
      "Successfully downloaded google-cloud-dataflow\n"
     ]
    },
    {
     "name": "stderr",
     "output_type": "stream",
     "text": [
      "/usr/local/envs/py2env/lib/python2.7/site-packages/h5py/__init__.py:36: FutureWarning: Conversion of the second argument of issubdtype from `float` to `np.floating` is deprecated. In future, it will be treated as `np.float64 == np.dtype(float).type`.\n",
      "  from ._conv import register_converters as _register_converters\n",
      "/usr/local/envs/py2env/lib/python2.7/site-packages/scipy/optimize/_minimize.py:32: ImportWarning: Not importing directory '/usr/local/envs/py2env/lib/python2.7/site-packages/scipy/optimize/lbfgsb': missing __init__.py\n",
      "  from .lbfgsb import _minimize_lbfgsb\n",
      "/usr/local/envs/py2env/lib/python2.7/site-packages/scipy/spatial/__init__.py:95: ImportWarning: Not importing directory '/usr/local/envs/py2env/lib/python2.7/site-packages/scipy/spatial/qhull': missing __init__.py\n",
      "  from .qhull import *\n",
      "/usr/local/envs/py2env/lib/python2.7/site-packages/apache_beam/coders/typecoders.py:135: UserWarning: Using fallback coder for typehint: Dict[Any, Any].\n",
      "  warnings.warn('Using fallback coder for typehint: %r.' % typehint)\n",
      "/usr/local/envs/py2env/lib/python2.7/site-packages/oauth2client/contrib/gce.py:99: UserWarning: You have requested explicit scopes to be used with a GCE service account.\n",
      "Using this argument will have no effect on the actual scopes for tokens\n",
      "requested. These scopes are set at VM instance creation time and\n",
      "can't be overridden in the request.\n",
      "\n",
      "  warnings.warn(_SCOPES_WARNING)\n",
      "INFO:root:Executing command: ['/usr/local/envs/py2env/bin/python', 'setup.py', 'sdist', '--dist-dir', '/tmp/tmp3Rn27k']\n",
      "warning: sdist: standard file not found: should have one of README, README.rst, README.txt, README.md\n",
      "\n",
      "warning: check: missing required meta-data: url\n",
      "\n",
      "INFO:root:Starting GCS upload to gs://cloudonair-ml-demo/babyweight/staging/evaluate-ml-model-180516-052615.1526448403.328118/workflow.tar.gz...\n",
      "INFO:oauth2client.client:Attempting refresh to obtain initial access_token\n",
      "INFO:root:Completed GCS upload to gs://cloudonair-ml-demo/babyweight/staging/evaluate-ml-model-180516-052615.1526448403.328118/workflow.tar.gz\n",
      "INFO:root:Starting GCS upload to gs://cloudonair-ml-demo/babyweight/staging/evaluate-ml-model-180516-052615.1526448403.328118/pickled_main_session...\n",
      "INFO:root:Completed GCS upload to gs://cloudonair-ml-demo/babyweight/staging/evaluate-ml-model-180516-052615.1526448403.328118/pickled_main_session\n",
      "INFO:root:Staging the SDK tarball from PyPI to gs://cloudonair-ml-demo/babyweight/staging/evaluate-ml-model-180516-052615.1526448403.328118/dataflow_python_sdk.tar\n",
      "INFO:root:Executing command: ['/usr/local/envs/py2env/bin/python', '-m', 'pip', 'install', '--download', '/tmp/tmp3Rn27k', 'google-cloud-dataflow==2.0.0', '--no-binary', ':all:', '--no-deps']\n",
      "DEPRECATION: pip install --download has been deprecated and will be removed in the future. Pip now has a download command that should be used instead.\n",
      "You are using pip version 9.0.3, however version 10.0.1 is available.\n",
      "You should consider upgrading via the 'pip install --upgrade pip' command.\n",
      "INFO:root:file copy from /tmp/tmp3Rn27k/google-cloud-dataflow-2.0.0.tar.gz to gs://cloudonair-ml-demo/babyweight/staging/evaluate-ml-model-180516-052615.1526448403.328118/dataflow_python_sdk.tar.\n",
      "/usr/local/envs/py2env/lib/python2.7/site-packages/apache_beam/io/gcp/gcsio.py:113: DeprecationWarning: object() takes no parameters\n",
      "  super(GcsIO, cls).__new__(cls, storage_client))\n",
      "INFO:oauth2client.client:Attempting refresh to obtain initial access_token\n",
      "INFO:root:Create job: <Job\n",
      " createTime: u'2018-05-16T05:26:47.731096Z'\n",
      " currentStateTime: u'1970-01-01T00:00:00Z'\n",
      " id: u'2018-05-15_22_26_46-15394148674106363188'\n",
      " location: u'us-central1'\n",
      " name: u'evaluate-ml-model-180516-052615'\n",
      " projectId: u'cloudonair-ml-demo'\n",
      " stageStates: []\n",
      " steps: []\n",
      " tempFiles: []\n",
      " type: TypeValueValuesEnum(JOB_TYPE_BATCH, 1)>\n",
      "INFO:root:Created job with id: [2018-05-15_22_26_46-15394148674106363188]\n",
      "INFO:root:To access the Dataflow monitoring console, please navigate to https://console.developers.google.com/project/cloudonair-ml-demo/dataflow/job/2018-05-15_22_26_46-15394148674106363188\n"
     ]
    }
   ],
   "source": [
    "%%bash\n",
    "\n",
    "cd $(pwd)/model_evaluation_pipeline/evaluator\n",
    "\n",
    "python -m main \\\n",
    "  --datasize=1000000 \\\n",
    "  --year_from=1984 \\\n",
    "  --year_to=1988 \\\n",
    "  --saved_model_dir=${SAVED_MODEL_DIR} \\\n",
    "  --output_table=${OUTPUT_TABLE} \\\n",
    "  --project=${PROJECT} \\\n",
    "  --runner=${RUNNER} \\\n",
    "  --region=${REGION} \\\n",
    "  --staging_location=${STAGING_LOCATION} \\\n",
    "  --temp_location=${TEMP_LOCATION} \\\n",
    "  --job_name=${JOB_NAME} \\\n",
    "  --setup_file=$(pwd)/setup.py"
   ]
  },
  {
   "cell_type": "code",
   "execution_count": 18,
   "metadata": {},
   "outputs": [
    {
     "data": {
      "text/html": [
       "<div>\n",
       "<style scoped>\n",
       "    .dataframe tbody tr th:only-of-type {\n",
       "        vertical-align: middle;\n",
       "    }\n",
       "\n",
       "    .dataframe tbody tr th {\n",
       "        vertical-align: top;\n",
       "    }\n",
       "\n",
       "    .dataframe thead th {\n",
       "        text-align: right;\n",
       "    }\n",
       "</style>\n",
       "<table border=\"1\" class=\"dataframe\">\n",
       "  <thead>\n",
       "    <tr style=\"text-align: right;\">\n",
       "      <th></th>\n",
       "      <th>is_male</th>\n",
       "      <th>mother_age</th>\n",
       "      <th>plurality</th>\n",
       "      <th>gestation_weeks</th>\n",
       "      <th>weight_true</th>\n",
       "      <th>weight_predicted</th>\n",
       "      <th>weight_residual</th>\n",
       "      <th>model</th>\n",
       "      <th>testdata</th>\n",
       "      <th>time_inference</th>\n",
       "    </tr>\n",
       "  </thead>\n",
       "  <tbody>\n",
       "    <tr>\n",
       "      <th>0</th>\n",
       "      <td>True</td>\n",
       "      <td>16</td>\n",
       "      <td>Single(1)</td>\n",
       "      <td>42</td>\n",
       "      <td>7.687519</td>\n",
       "      <td>7.750488</td>\n",
       "      <td>-0.062969</td>\n",
       "      <td>gs://cloudonair-ml-demo/babyweight/trained_mod...</td>\n",
       "      <td>1974-1978</td>\n",
       "      <td>0.765085</td>\n",
       "    </tr>\n",
       "    <tr>\n",
       "      <th>1</th>\n",
       "      <td>True</td>\n",
       "      <td>17</td>\n",
       "      <td>Single(1)</td>\n",
       "      <td>40</td>\n",
       "      <td>8.375361</td>\n",
       "      <td>7.844401</td>\n",
       "      <td>0.530960</td>\n",
       "      <td>gs://cloudonair-ml-demo/babyweight/trained_mod...</td>\n",
       "      <td>1974-1978</td>\n",
       "      <td>0.846148</td>\n",
       "    </tr>\n",
       "    <tr>\n",
       "      <th>2</th>\n",
       "      <td>False</td>\n",
       "      <td>17</td>\n",
       "      <td>Single(1)</td>\n",
       "      <td>41</td>\n",
       "      <td>7.063611</td>\n",
       "      <td>7.683310</td>\n",
       "      <td>-0.619699</td>\n",
       "      <td>gs://cloudonair-ml-demo/babyweight/trained_mod...</td>\n",
       "      <td>1974-1978</td>\n",
       "      <td>0.854015</td>\n",
       "    </tr>\n",
       "    <tr>\n",
       "      <th>3</th>\n",
       "      <td>False</td>\n",
       "      <td>17</td>\n",
       "      <td>Single(1)</td>\n",
       "      <td>99</td>\n",
       "      <td>7.438397</td>\n",
       "      <td>7.047079</td>\n",
       "      <td>0.391318</td>\n",
       "      <td>gs://cloudonair-ml-demo/babyweight/trained_mod...</td>\n",
       "      <td>1974-1978</td>\n",
       "      <td>0.785828</td>\n",
       "    </tr>\n",
       "    <tr>\n",
       "      <th>4</th>\n",
       "      <td>False</td>\n",
       "      <td>19</td>\n",
       "      <td>Single(1)</td>\n",
       "      <td>37</td>\n",
       "      <td>7.438397</td>\n",
       "      <td>6.930870</td>\n",
       "      <td>0.507527</td>\n",
       "      <td>gs://cloudonair-ml-demo/babyweight/trained_mod...</td>\n",
       "      <td>1974-1978</td>\n",
       "      <td>0.883818</td>\n",
       "    </tr>\n",
       "  </tbody>\n",
       "</table>\n",
       "</div>"
      ],
      "text/plain": [
       "  is_male  mother_age  plurality  gestation_weeks  weight_true  \\\n",
       "0    True          16  Single(1)               42     7.687519   \n",
       "1    True          17  Single(1)               40     8.375361   \n",
       "2   False          17  Single(1)               41     7.063611   \n",
       "3   False          17  Single(1)               99     7.438397   \n",
       "4   False          19  Single(1)               37     7.438397   \n",
       "\n",
       "   weight_predicted  weight_residual  \\\n",
       "0          7.750488        -0.062969   \n",
       "1          7.844401         0.530960   \n",
       "2          7.683310        -0.619699   \n",
       "3          7.047079         0.391318   \n",
       "4          6.930870         0.507527   \n",
       "\n",
       "                                               model   testdata  \\\n",
       "0  gs://cloudonair-ml-demo/babyweight/trained_mod...  1974-1978   \n",
       "1  gs://cloudonair-ml-demo/babyweight/trained_mod...  1974-1978   \n",
       "2  gs://cloudonair-ml-demo/babyweight/trained_mod...  1974-1978   \n",
       "3  gs://cloudonair-ml-demo/babyweight/trained_mod...  1974-1978   \n",
       "4  gs://cloudonair-ml-demo/babyweight/trained_mod...  1974-1978   \n",
       "\n",
       "   time_inference  \n",
       "0        0.765085  \n",
       "1        0.846148  \n",
       "2        0.854015  \n",
       "3        0.785828  \n",
       "4        0.883818  "
      ]
     },
     "execution_count": 18,
     "metadata": {},
     "output_type": "execute_result"
    }
   ],
   "source": [
    "import pandas\n",
    "from pandas.io import gbq\n",
    "\n",
    "query = \"\"\"\n",
    "SELECT * FROM `{0}` LIMIT 10\n",
    "\"\"\".format(os.environ['OUTPUT_TABLE'].replace(':', '.'))\n",
    "\n",
    "df = gbq.read_gbq(query=query, dialect='standard', project_id=os.environ['PROJECT'])\n",
    "df.head()"
   ]
  },
  {
   "cell_type": "code",
   "execution_count": 17,
   "metadata": {},
   "outputs": [
    {
     "data": {
      "text/html": [
       "<div>\n",
       "<style scoped>\n",
       "    .dataframe tbody tr th:only-of-type {\n",
       "        vertical-align: middle;\n",
       "    }\n",
       "\n",
       "    .dataframe tbody tr th {\n",
       "        vertical-align: top;\n",
       "    }\n",
       "\n",
       "    .dataframe thead th {\n",
       "        text-align: right;\n",
       "    }\n",
       "</style>\n",
       "<table border=\"1\" class=\"dataframe\">\n",
       "  <thead>\n",
       "    <tr style=\"text-align: right;\">\n",
       "      <th></th>\n",
       "      <th>model</th>\n",
       "      <th>testdata</th>\n",
       "      <th>RMSE</th>\n",
       "      <th>AVG_MSEC</th>\n",
       "    </tr>\n",
       "  </thead>\n",
       "  <tbody>\n",
       "    <tr>\n",
       "      <th>0</th>\n",
       "      <td>gs://cloudonair-ml-demo/babyweight/trained_mod...</td>\n",
       "      <td>1974-1978</td>\n",
       "      <td>1.031156</td>\n",
       "      <td>2.557452</td>\n",
       "    </tr>\n",
       "    <tr>\n",
       "      <th>1</th>\n",
       "      <td>gs://cloudonair-ml-demo/babyweight/trained_mod...</td>\n",
       "      <td>1969-1973</td>\n",
       "      <td>1.055592</td>\n",
       "      <td>2.952533</td>\n",
       "    </tr>\n",
       "  </tbody>\n",
       "</table>\n",
       "</div>"
      ],
      "text/plain": [
       "                                               model   testdata      RMSE  \\\n",
       "0  gs://cloudonair-ml-demo/babyweight/trained_mod...  1974-1978  1.031156   \n",
       "1  gs://cloudonair-ml-demo/babyweight/trained_mod...  1969-1973  1.055592   \n",
       "\n",
       "   AVG_MSEC  \n",
       "0  2.557452  \n",
       "1  2.952533  "
      ]
     },
     "execution_count": 17,
     "metadata": {},
     "output_type": "execute_result"
    }
   ],
   "source": [
    "query = \"\"\"\n",
    "SELECT\n",
    "  model,\n",
    "  testdata,\n",
    "  SQRT(SUM(POW(weight_residual,2))/COUNT(*)) AS RMSE,\n",
    "  AVG(time_inference) AS AVG_MSEC\n",
    "FROM\n",
    "  `{0}`\n",
    "GROUP BY\n",
    "  model, testdata\n",
    "\"\"\".format(os.environ['OUTPUT_TABLE'].replace(':', '.'))\n",
    "\n",
    "df = gbq.read_gbq(query=query, dialect='standard', project_id=os.environ['PROJECT'])\n",
    "df"
   ]
  },
  {
   "cell_type": "markdown",
   "metadata": {},
   "source": [
    "## 6. Visualize Optimizing and Satisficing Metric with DataStudio"
   ]
  },
  {
   "cell_type": "markdown",
   "metadata": {},
   "source": [
    "Now, you can create sharable dashboard using Google Data Studio like below. In the similar way, you can also create a dashboard for error analysis so that both business owners and engineers do simple error analysis."
   ]
  },
  {
   "cell_type": "markdown",
   "metadata": {},
   "source": [
    "<img src=\"model_evaluation_pipeline/dashboard1.png\">"
   ]
  }
 ],
 "metadata": {
  "kernelspec": {
   "display_name": "Python 2",
   "language": "python",
   "name": "python2"
  },
  "language_info": {
   "codemirror_mode": {
    "name": "ipython",
    "version": 2
   },
   "file_extension": ".py",
   "mimetype": "text/x-python",
   "name": "python",
   "nbconvert_exporter": "python",
   "pygments_lexer": "ipython2",
   "version": "2.7.13"
  }
 },
 "nbformat": 4,
 "nbformat_minor": 2
}
