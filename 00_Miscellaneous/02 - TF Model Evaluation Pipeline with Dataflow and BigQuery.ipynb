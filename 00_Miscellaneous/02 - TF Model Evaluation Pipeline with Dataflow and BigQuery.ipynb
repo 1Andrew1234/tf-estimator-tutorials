{
 "cells": [
  {
   "cell_type": "markdown",
   "metadata": {},
   "source": [
    "## Initialize settings"
   ]
  },
  {
   "cell_type": "code",
   "execution_count": 1,
   "metadata": {
    "collapsed": true
   },
   "outputs": [],
   "source": [
    "# change these to try this notebook out\n",
    "BUCKET = 'cloudonair-ml-demo'\n",
    "PROJECT = 'cloudonair-ml-demo'\n",
    "REGION = 'us-central1'"
   ]
  },
  {
   "cell_type": "code",
   "execution_count": 2,
   "metadata": {
    "collapsed": true
   },
   "outputs": [],
   "source": [
    "import os\n",
    "\n",
    "os.environ['BUCKET'] = BUCKET\n",
    "os.environ['PROJECT'] = PROJECT\n",
    "os.environ['REGION'] = REGION"
   ]
  },
  {
   "cell_type": "code",
   "execution_count": 3,
   "metadata": {},
   "outputs": [
    {
     "name": "stderr",
     "output_type": "stream",
     "text": [
      "Updated property [core/project].\n",
      "Updated property [compute/region].\n"
     ]
    }
   ],
   "source": [
    "%%bash\n",
    "\n",
    "gcloud config set project $PROJECT\n",
    "gcloud config set compute/region $REGION"
   ]
  },
  {
   "cell_type": "markdown",
   "metadata": {},
   "source": [
    "## Explore Natality dataset"
   ]
  },
  {
   "cell_type": "code",
   "execution_count": 4,
   "metadata": {
    "collapsed": true
   },
   "outputs": [],
   "source": [
    "# Create SQL query using natality data after the year 2000\n",
    "query = \"\"\"\n",
    "SELECT\n",
    "  weight_pounds,\n",
    "  is_male,\n",
    "  mother_age,\n",
    "  plurality,\n",
    "  gestation_weeks\n",
    "FROM\n",
    "  publicdata.samples.natality\n",
    "WHERE year > 2000\n",
    "LIMIT 100\n",
    "\"\"\""
   ]
  },
  {
   "cell_type": "code",
   "execution_count": 5,
   "metadata": {},
   "outputs": [
    {
     "data": {
      "text/html": [
       "<div>\n",
       "<style>\n",
       "    .dataframe thead tr:only-child th {\n",
       "        text-align: right;\n",
       "    }\n",
       "\n",
       "    .dataframe thead th {\n",
       "        text-align: left;\n",
       "    }\n",
       "\n",
       "    .dataframe tbody tr th {\n",
       "        vertical-align: top;\n",
       "    }\n",
       "</style>\n",
       "<table border=\"1\" class=\"dataframe\">\n",
       "  <thead>\n",
       "    <tr style=\"text-align: right;\">\n",
       "      <th></th>\n",
       "      <th>weight_pounds</th>\n",
       "      <th>is_male</th>\n",
       "      <th>mother_age</th>\n",
       "      <th>plurality</th>\n",
       "      <th>gestation_weeks</th>\n",
       "    </tr>\n",
       "  </thead>\n",
       "  <tbody>\n",
       "    <tr>\n",
       "      <th>0</th>\n",
       "      <td>3.562670</td>\n",
       "      <td>True</td>\n",
       "      <td>25</td>\n",
       "      <td>1</td>\n",
       "      <td>30</td>\n",
       "    </tr>\n",
       "    <tr>\n",
       "      <th>1</th>\n",
       "      <td>3.999185</td>\n",
       "      <td>False</td>\n",
       "      <td>30</td>\n",
       "      <td>1</td>\n",
       "      <td>32</td>\n",
       "    </tr>\n",
       "    <tr>\n",
       "      <th>2</th>\n",
       "      <td>7.438397</td>\n",
       "      <td>True</td>\n",
       "      <td>13</td>\n",
       "      <td>1</td>\n",
       "      <td>34</td>\n",
       "    </tr>\n",
       "    <tr>\n",
       "      <th>3</th>\n",
       "      <td>4.806077</td>\n",
       "      <td>True</td>\n",
       "      <td>19</td>\n",
       "      <td>1</td>\n",
       "      <td>34</td>\n",
       "    </tr>\n",
       "    <tr>\n",
       "      <th>4</th>\n",
       "      <td>4.812691</td>\n",
       "      <td>True</td>\n",
       "      <td>22</td>\n",
       "      <td>3</td>\n",
       "      <td>34</td>\n",
       "    </tr>\n",
       "  </tbody>\n",
       "</table>\n",
       "</div>"
      ],
      "text/plain": [
       "   weight_pounds  is_male  mother_age  plurality  gestation_weeks\n",
       "0       3.562670     True          25          1               30\n",
       "1       3.999185    False          30          1               32\n",
       "2       7.438397     True          13          1               34\n",
       "3       4.806077     True          19          1               34\n",
       "4       4.812691     True          22          3               34"
      ]
     },
     "execution_count": 5,
     "metadata": {},
     "output_type": "execute_result"
    }
   ],
   "source": [
    "# Call BigQuery and examine in dataframe\n",
    "import pandas\n",
    "from pandas.io import gbq\n",
    "\n",
    "df = gbq.read_gbq(query=query, dialect='standard', project_id=os.environ['PROJECT'])\n",
    "df.head()"
   ]
  },
  {
   "cell_type": "markdown",
   "metadata": {},
   "source": [
    "## Training on Cloud ML Engine"
   ]
  },
  {
   "cell_type": "code",
   "execution_count": 6,
   "metadata": {
    "collapsed": true
   },
   "outputs": [],
   "source": [
    "%%bash\n",
    "\n",
    "if ! gsutil ls | grep -q gs://${BUCKET}/; then\n",
    "  gsutil mb -l ${REGION} gs://${BUCKET}\n",
    "  # copy canonical set of preprocessed files if you didn't do previous notebook\n",
    "  gsutil -m cp -R gs://cloud-training-demos/babyweight gs://${BUCKET}\n",
    "fi"
   ]
  },
  {
   "cell_type": "code",
   "execution_count": 7,
   "metadata": {},
   "outputs": [
    {
     "name": "stdout",
     "output_type": "stream",
     "text": [
      "gs://cloudonair-ml-demo/babyweight/preproc/eval.csv-00000-of-00012\n",
      "gs://cloudonair-ml-demo/babyweight/preproc/train.csv-00000-of-00043\n"
     ]
    }
   ],
   "source": [
    "%%bash\n",
    "\n",
    "gsutil ls gs://${BUCKET}/babyweight/preproc/*-00000*"
   ]
  },
  {
   "cell_type": "code",
   "execution_count": 13,
   "metadata": {},
   "outputs": [
    {
     "name": "stdout",
     "output_type": "stream",
     "text": [
      "gs://cloudonair-ml-demo/babyweight/trained_model us-central1 babyweight_180516_034734\n",
      "jobId: babyweight_180516_034734\n",
      "state: QUEUED\n"
     ]
    },
    {
     "name": "stderr",
     "output_type": "stream",
     "text": [
      "CommandException: 1 files/objects could not be removed.\n",
      "Job [babyweight_180516_034734] submitted successfully.\n",
      "Your job is still active. You may view the status of your job with the command\n",
      "\n",
      "  $ gcloud ml-engine jobs describe babyweight_180516_034734\n",
      "\n",
      "or continue streaming the logs with the command\n",
      "\n",
      "  $ gcloud ml-engine jobs stream-logs babyweight_180516_034734\n"
     ]
    }
   ],
   "source": [
    "%%bash\n",
    "\n",
    "OUTDIR=gs://${BUCKET}/babyweight/trained_model\n",
    "JOBNAME=babyweight_$(date -u +%y%m%d_%H%M%S)\n",
    "echo $OUTDIR $REGION $JOBNAME\n",
    "\n",
    "gsutil -m rm -rf $OUTDIR\n",
    "\n",
    "gcloud ml-engine jobs submit training $JOBNAME \\\n",
    "  --region=$REGION \\\n",
    "  --module-name=trainer.task \\\n",
    "  --package-path=$(pwd)/model_evaluation_pipeline/trainer \\\n",
    "  --job-dir=$OUTDIR \\\n",
    "  --staging-bucket=gs://$BUCKET \\\n",
    "  --scale-tier=STANDARD_1 \\\n",
    "  --runtime-version=1.4 \\\n",
    "  -- \\\n",
    "  --bucket=${BUCKET} \\\n",
    "  --output_dir=${OUTDIR} \\\n",
    "  --train_examples=200000"
   ]
  },
  {
   "cell_type": "markdown",
   "metadata": {},
   "source": [
    "### Check model directory"
   ]
  },
  {
   "cell_type": "code",
   "execution_count": 32,
   "metadata": {},
   "outputs": [
    {
     "name": "stdout",
     "output_type": "stream",
     "text": [
      "0 B         gs://cloudonair-ml-demo/babyweight/trained_model/export/exporter\n",
      "0 B         total\n"
     ]
    }
   ],
   "source": [
    "%%bash\n",
    "\n",
    "gsutil du -shc gs://cloudonair-ml-demo/babyweight/trained_model/export/exporter/"
   ]
  },
  {
   "cell_type": "markdown",
   "metadata": {},
   "source": [
    "### Execute Apache Beam Pipeline with DirectRunner"
   ]
  },
  {
   "cell_type": "code",
   "execution_count": 15,
   "metadata": {
    "collapsed": true
   },
   "outputs": [],
   "source": [
    "import os\n",
    "import datetime\n",
    "\n",
    "os.environ['RUNNER'] = 'DirectRunner'\n",
    "os.environ['JOB_NAME'] = 'evaluate-ml-model-{0}'.format(datetime.datetime.now().strftime('%y%m%d-%H%M%S'))\n",
    "os.environ['SAVED_MODEL_DIR'] = 'gs://cloudonair-ml-demo/babyweight/trained_model/export/exporter/1526369461'\n",
    "os.environ['OUTPUT_TABLE'] = 'cloudonair-ml-demo:model_evaluation.sample'"
   ]
  },
  {
   "cell_type": "code",
   "execution_count": 28,
   "metadata": {},
   "outputs": [
    {
     "name": "stderr",
     "output_type": "stream",
     "text": [
      "/usr/local/google/home/yaboo/Resources/anaconda2/lib/python2.7/site-packages/py/_code/_assertionold.py:3: DeprecationWarning: The compiler package is deprecated and removed in Python 3.x.\n",
      "  from compiler import parse, ast, pycodegen\n",
      "/usr/local/google/home/yaboo/Resources/anaconda2/lib/python2.7/site-packages/apache_beam/runners/direct/direct_runner.py:337: DeprecationWarning: options is deprecated since First stable release.. References to <pipeline>.options will not be supported\n",
      "  pipeline.replace_all(_get_transform_overrides(pipeline.options))\n",
      "INFO:root:Running pipeline with DirectRunner.\n",
      "INFO:oauth2client.transport:Attempting refresh to obtain initial access_token\n",
      "INFO:oauth2client.client:Refreshing access_token\n",
      "WARNING:root:Dataset cloudonair-ml-demo:temp_dataset_1cd74e43ff82423c84d8f93bfbeefd5f does not exist so we will create it as temporary with location=None\n",
      "INFO:root:initializing predictor...\n",
      "2018-05-16 12:56:59.395668: I tensorflow/core/platform/cpu_feature_guard.cc:137] Your CPU supports instructions that this TensorFlow binary was not compiled to use: SSE4.1 SSE4.2 AVX AVX2 FMA\n",
      "ERROR:root:Exception at bundle <apache_beam.runners.direct.bundle_factory._Bundle object at 0x7ffb544fb908>, due to an exception.\n",
      " Traceback (most recent call last):\n",
      "  File \"/usr/local/google/home/yaboo/Resources/anaconda2/lib/python2.7/site-packages/apache_beam/runners/direct/executor.py\", line 307, in call\n",
      "    side_input_values)\n",
      "  File \"/usr/local/google/home/yaboo/Resources/anaconda2/lib/python2.7/site-packages/apache_beam/runners/direct/executor.py\", line 340, in attempt_call\n",
      "    evaluator.process_element(value)\n",
      "  File \"/usr/local/google/home/yaboo/Resources/anaconda2/lib/python2.7/site-packages/apache_beam/runners/direct/transform_evaluator.py\", line 548, in process_element\n",
      "    self.runner.process(element)\n",
      "  File \"apache_beam/runners/common.py\", line 490, in apache_beam.runners.common.DoFnRunner.process\n",
      "    def process(self, windowed_value):\n",
      "  File \"apache_beam/runners/common.py\", line 496, in apache_beam.runners.common.DoFnRunner.process\n",
      "    self._reraise_augmented(exn)\n",
      "  File \"apache_beam/runners/common.py\", line 537, in apache_beam.runners.common.DoFnRunner._reraise_augmented\n",
      "    six.raise_from(new_exn, original_traceback)\n",
      "  File \"/usr/local/google/home/yaboo/Resources/anaconda2/lib/python2.7/site-packages/six.py\", line 718, in raise_from\n",
      "    raise value\n",
      "IOError: SavedModel file does not exist at: gs://cloudonair-ml-demo/babyweight/trained_model/export/exporter/1526369461/{saved_model.pbtxt|saved_model.pb} [while running 'Predict weight']\n",
      "\n",
      "ERROR:root:Exception at bundle <apache_beam.runners.direct.bundle_factory._Bundle object at 0x7ffb544fb908>, due to an exception.\n",
      " Traceback (most recent call last):\n",
      "  File \"/usr/local/google/home/yaboo/Resources/anaconda2/lib/python2.7/site-packages/apache_beam/runners/direct/executor.py\", line 307, in call\n",
      "    side_input_values)\n",
      "  File \"/usr/local/google/home/yaboo/Resources/anaconda2/lib/python2.7/site-packages/apache_beam/runners/direct/executor.py\", line 340, in attempt_call\n",
      "    evaluator.process_element(value)\n",
      "  File \"/usr/local/google/home/yaboo/Resources/anaconda2/lib/python2.7/site-packages/apache_beam/runners/direct/transform_evaluator.py\", line 548, in process_element\n",
      "    self.runner.process(element)\n",
      "  File \"apache_beam/runners/common.py\", line 490, in apache_beam.runners.common.DoFnRunner.process\n",
      "    def process(self, windowed_value):\n",
      "  File \"apache_beam/runners/common.py\", line 496, in apache_beam.runners.common.DoFnRunner.process\n",
      "    self._reraise_augmented(exn)\n",
      "  File \"apache_beam/runners/common.py\", line 537, in apache_beam.runners.common.DoFnRunner._reraise_augmented\n",
      "    six.raise_from(new_exn, original_traceback)\n",
      "  File \"/usr/local/google/home/yaboo/Resources/anaconda2/lib/python2.7/site-packages/six.py\", line 718, in raise_from\n",
      "    raise value\n",
      "KeyError: \"weight_true [while running 'Predict weight']\"\n",
      "\n",
      "ERROR:root:Exception at bundle <apache_beam.runners.direct.bundle_factory._Bundle object at 0x7ffb544fb908>, due to an exception.\n",
      " Traceback (most recent call last):\n",
      "  File \"/usr/local/google/home/yaboo/Resources/anaconda2/lib/python2.7/site-packages/apache_beam/runners/direct/executor.py\", line 307, in call\n",
      "    side_input_values)\n",
      "  File \"/usr/local/google/home/yaboo/Resources/anaconda2/lib/python2.7/site-packages/apache_beam/runners/direct/executor.py\", line 340, in attempt_call\n",
      "    evaluator.process_element(value)\n",
      "  File \"/usr/local/google/home/yaboo/Resources/anaconda2/lib/python2.7/site-packages/apache_beam/runners/direct/transform_evaluator.py\", line 548, in process_element\n",
      "    self.runner.process(element)\n",
      "  File \"apache_beam/runners/common.py\", line 490, in apache_beam.runners.common.DoFnRunner.process\n",
      "    def process(self, windowed_value):\n",
      "  File \"apache_beam/runners/common.py\", line 496, in apache_beam.runners.common.DoFnRunner.process\n",
      "    self._reraise_augmented(exn)\n",
      "  File \"apache_beam/runners/common.py\", line 537, in apache_beam.runners.common.DoFnRunner._reraise_augmented\n",
      "    six.raise_from(new_exn, original_traceback)\n",
      "  File \"/usr/local/google/home/yaboo/Resources/anaconda2/lib/python2.7/site-packages/six.py\", line 718, in raise_from\n",
      "    raise value\n",
      "KeyError: \"weight_true [while running 'Predict weight']\"\n",
      "\n",
      "ERROR:root:Exception at bundle <apache_beam.runners.direct.bundle_factory._Bundle object at 0x7ffb544fb908>, due to an exception.\n",
      " Traceback (most recent call last):\n",
      "  File \"/usr/local/google/home/yaboo/Resources/anaconda2/lib/python2.7/site-packages/apache_beam/runners/direct/executor.py\", line 307, in call\n",
      "    side_input_values)\n",
      "  File \"/usr/local/google/home/yaboo/Resources/anaconda2/lib/python2.7/site-packages/apache_beam/runners/direct/executor.py\", line 340, in attempt_call\n",
      "    evaluator.process_element(value)\n",
      "  File \"/usr/local/google/home/yaboo/Resources/anaconda2/lib/python2.7/site-packages/apache_beam/runners/direct/transform_evaluator.py\", line 548, in process_element\n",
      "    self.runner.process(element)\n",
      "  File \"apache_beam/runners/common.py\", line 490, in apache_beam.runners.common.DoFnRunner.process\n",
      "    def process(self, windowed_value):\n",
      "  File \"apache_beam/runners/common.py\", line 496, in apache_beam.runners.common.DoFnRunner.process\n",
      "    self._reraise_augmented(exn)\n",
      "  File \"apache_beam/runners/common.py\", line 537, in apache_beam.runners.common.DoFnRunner._reraise_augmented\n",
      "    six.raise_from(new_exn, original_traceback)\n",
      "  File \"/usr/local/google/home/yaboo/Resources/anaconda2/lib/python2.7/site-packages/six.py\", line 718, in raise_from\n",
      "    raise value\n",
      "KeyError: \"weight_true [while running 'Predict weight']\"\n",
      "\n",
      "ERROR:root:Giving up after 4 attempts.\n",
      "WARNING:root:A task failed with exception: \"weight_true [while running 'Predict weight']\"\n",
      "Traceback (most recent call last):\n",
      "  File \"/usr/local/google/home/yaboo/Resources/anaconda2/lib/python2.7/runpy.py\", line 174, in _run_module_as_main\n",
      "    \"__main__\", fname, loader, pkg_name)\n",
      "  File \"/usr/local/google/home/yaboo/Resources/anaconda2/lib/python2.7/runpy.py\", line 72, in _run_code\n",
      "    exec code in run_globals\n",
      "  File \"/usr/local/google/home/yaboo/Work/tf-estimator-tutorials/00_Miscellaneous/model_evaluation_pipeline/evaluator/main.py\", line 52, in <module>\n",
      "    main()\n",
      "  File \"/usr/local/google/home/yaboo/Work/tf-estimator-tutorials/00_Miscellaneous/model_evaluation_pipeline/evaluator/main.py\", line 47, in main\n",
      "    known_args.output_table)\n",
      "  File \"process/pipeline.py\", line 133, in run\n",
      "    job.wait_until_finish()\n",
      "  File \"/usr/local/google/home/yaboo/Resources/anaconda2/lib/python2.7/site-packages/apache_beam/runners/direct/direct_runner.py\", line 414, in wait_until_finish\n",
      "    self._executor.await_completion()\n",
      "  File \"/usr/local/google/home/yaboo/Resources/anaconda2/lib/python2.7/site-packages/apache_beam/runners/direct/executor.py\", line 360, in await_completion\n",
      "    self._executor.await_completion()\n",
      "  File \"/usr/local/google/home/yaboo/Resources/anaconda2/lib/python2.7/site-packages/apache_beam/runners/direct/executor.py\", line 403, in await_completion\n",
      "    six.reraise(t, v, tb)\n",
      "  File \"/usr/local/google/home/yaboo/Resources/anaconda2/lib/python2.7/site-packages/apache_beam/runners/direct/executor.py\", line 307, in call\n",
      "    side_input_values)\n",
      "  File \"/usr/local/google/home/yaboo/Resources/anaconda2/lib/python2.7/site-packages/apache_beam/runners/direct/executor.py\", line 340, in attempt_call\n",
      "    evaluator.process_element(value)\n",
      "  File \"/usr/local/google/home/yaboo/Resources/anaconda2/lib/python2.7/site-packages/apache_beam/runners/direct/transform_evaluator.py\", line 548, in process_element\n",
      "    self.runner.process(element)\n",
      "  File \"apache_beam/runners/common.py\", line 490, in apache_beam.runners.common.DoFnRunner.process\n",
      "  File \"apache_beam/runners/common.py\", line 496, in apache_beam.runners.common.DoFnRunner.process\n",
      "  File \"apache_beam/runners/common.py\", line 537, in apache_beam.runners.common.DoFnRunner._reraise_augmented\n",
      "  File \"/usr/local/google/home/yaboo/Resources/anaconda2/lib/python2.7/site-packages/six.py\", line 718, in raise_from\n",
      "    raise value\n",
      "KeyError: \"weight_true [while running 'Predict weight']\"\n"
     ]
    }
   ],
   "source": [
    "%%bash\n",
    "\n",
    "cd $(pwd)/model_evaluation_pipeline/evaluator\n",
    "\n",
    "python -m main \\\n",
    "  --datasize=100 \\\n",
    "  --year_from=1974 \\\n",
    "  --year_to=1978 \\\n",
    "  --saved_model_dir=${SAVED_MODEL_DIR} \\\n",
    "  --output_table=${OUTPUT_TABLE} \\\n",
    "  --project=${PROJECT} \\\n",
    "  --runner=DirectRunner \\\n",
    "  --region=${REGION} \\\n",
    "  --job_name=${JOB_NAME}"
   ]
  },
  {
   "cell_type": "markdown",
   "metadata": {},
   "source": [
    "### Query BQ Table"
   ]
  },
  {
   "cell_type": "code",
   "execution_count": 29,
   "metadata": {
    "collapsed": true
   },
   "outputs": [],
   "source": [
    "import pandas\n",
    "from pandas.io import gbq"
   ]
  },
  {
   "cell_type": "code",
   "execution_count": 30,
   "metadata": {},
   "outputs": [
    {
     "data": {
      "text/html": [
       "<div>\n",
       "<style>\n",
       "    .dataframe thead tr:only-child th {\n",
       "        text-align: right;\n",
       "    }\n",
       "\n",
       "    .dataframe thead th {\n",
       "        text-align: left;\n",
       "    }\n",
       "\n",
       "    .dataframe tbody tr th {\n",
       "        vertical-align: top;\n",
       "    }\n",
       "</style>\n",
       "<table border=\"1\" class=\"dataframe\">\n",
       "  <thead>\n",
       "    <tr style=\"text-align: right;\">\n",
       "      <th></th>\n",
       "      <th>is_male</th>\n",
       "      <th>mother_age</th>\n",
       "      <th>plurality</th>\n",
       "      <th>gestation_weeks</th>\n",
       "      <th>weight_true</th>\n",
       "      <th>weight_predicted</th>\n",
       "      <th>weight_residual</th>\n",
       "      <th>model</th>\n",
       "      <th>testdata</th>\n",
       "      <th>time_inference</th>\n",
       "    </tr>\n",
       "  </thead>\n",
       "  <tbody>\n",
       "    <tr>\n",
       "      <th>0</th>\n",
       "      <td>True</td>\n",
       "      <td>26</td>\n",
       "      <td>Single(1)</td>\n",
       "      <td>33</td>\n",
       "      <td>4.938355</td>\n",
       "      <td>0.292607</td>\n",
       "      <td>4.645748</td>\n",
       "      <td>gs://cloudonair-ml-demo/babyweight/trained_mod...</td>\n",
       "      <td>1974-1978</td>\n",
       "      <td>0.605822</td>\n",
       "    </tr>\n",
       "    <tr>\n",
       "      <th>1</th>\n",
       "      <td>True</td>\n",
       "      <td>32</td>\n",
       "      <td>Single(1)</td>\n",
       "      <td>35</td>\n",
       "      <td>7.561856</td>\n",
       "      <td>0.298290</td>\n",
       "      <td>7.263566</td>\n",
       "      <td>gs://cloudonair-ml-demo/babyweight/trained_mod...</td>\n",
       "      <td>1974-1978</td>\n",
       "      <td>1.049995</td>\n",
       "    </tr>\n",
       "    <tr>\n",
       "      <th>2</th>\n",
       "      <td>True</td>\n",
       "      <td>21</td>\n",
       "      <td>Single(1)</td>\n",
       "      <td>39</td>\n",
       "      <td>6.437498</td>\n",
       "      <td>0.291146</td>\n",
       "      <td>6.146352</td>\n",
       "      <td>gs://cloudonair-ml-demo/babyweight/trained_mod...</td>\n",
       "      <td>1974-1978</td>\n",
       "      <td>0.945091</td>\n",
       "    </tr>\n",
       "    <tr>\n",
       "      <th>3</th>\n",
       "      <td>True</td>\n",
       "      <td>24</td>\n",
       "      <td>Single(1)</td>\n",
       "      <td>42</td>\n",
       "      <td>8.126239</td>\n",
       "      <td>0.293240</td>\n",
       "      <td>7.832999</td>\n",
       "      <td>gs://cloudonair-ml-demo/babyweight/trained_mod...</td>\n",
       "      <td>1974-1978</td>\n",
       "      <td>1.027822</td>\n",
       "    </tr>\n",
       "    <tr>\n",
       "      <th>4</th>\n",
       "      <td>True</td>\n",
       "      <td>20</td>\n",
       "      <td>Single(1)</td>\n",
       "      <td>42</td>\n",
       "      <td>8.375361</td>\n",
       "      <td>0.293240</td>\n",
       "      <td>8.082121</td>\n",
       "      <td>gs://cloudonair-ml-demo/babyweight/trained_mod...</td>\n",
       "      <td>1974-1978</td>\n",
       "      <td>0.817060</td>\n",
       "    </tr>\n",
       "  </tbody>\n",
       "</table>\n",
       "</div>"
      ],
      "text/plain": [
       "  is_male  mother_age  plurality  gestation_weeks  weight_true  \\\n",
       "0    True          26  Single(1)               33     4.938355   \n",
       "1    True          32  Single(1)               35     7.561856   \n",
       "2    True          21  Single(1)               39     6.437498   \n",
       "3    True          24  Single(1)               42     8.126239   \n",
       "4    True          20  Single(1)               42     8.375361   \n",
       "\n",
       "   weight_predicted  weight_residual  \\\n",
       "0          0.292607         4.645748   \n",
       "1          0.298290         7.263566   \n",
       "2          0.291146         6.146352   \n",
       "3          0.293240         7.832999   \n",
       "4          0.293240         8.082121   \n",
       "\n",
       "                                               model   testdata  \\\n",
       "0  gs://cloudonair-ml-demo/babyweight/trained_mod...  1974-1978   \n",
       "1  gs://cloudonair-ml-demo/babyweight/trained_mod...  1974-1978   \n",
       "2  gs://cloudonair-ml-demo/babyweight/trained_mod...  1974-1978   \n",
       "3  gs://cloudonair-ml-demo/babyweight/trained_mod...  1974-1978   \n",
       "4  gs://cloudonair-ml-demo/babyweight/trained_mod...  1974-1978   \n",
       "\n",
       "   time_inference  \n",
       "0        0.605822  \n",
       "1        1.049995  \n",
       "2        0.945091  \n",
       "3        1.027822  \n",
       "4        0.817060  "
      ]
     },
     "execution_count": 30,
     "metadata": {},
     "output_type": "execute_result"
    }
   ],
   "source": [
    "query = \"\"\"\n",
    "SELECT * FROM `{0}` LIMIT 10\n",
    "\"\"\".format(os.environ['OUTPUT_TABLE'].replace(':', '.'))\n",
    "\n",
    "df = gbq.read_gbq(query=query, dialect='standard', project_id=os.environ['PROJECT'])\n",
    "df.head()"
   ]
  },
  {
   "cell_type": "code",
   "execution_count": 31,
   "metadata": {},
   "outputs": [
    {
     "data": {
      "text/html": [
       "<div>\n",
       "<style>\n",
       "    .dataframe thead tr:only-child th {\n",
       "        text-align: right;\n",
       "    }\n",
       "\n",
       "    .dataframe thead th {\n",
       "        text-align: left;\n",
       "    }\n",
       "\n",
       "    .dataframe tbody tr th {\n",
       "        vertical-align: top;\n",
       "    }\n",
       "</style>\n",
       "<table border=\"1\" class=\"dataframe\">\n",
       "  <thead>\n",
       "    <tr style=\"text-align: right;\">\n",
       "      <th></th>\n",
       "      <th>model</th>\n",
       "      <th>testdata</th>\n",
       "      <th>RMSE</th>\n",
       "      <th>AVG_SEC</th>\n",
       "    </tr>\n",
       "  </thead>\n",
       "  <tbody>\n",
       "    <tr>\n",
       "      <th>0</th>\n",
       "      <td>gs://cloudonair-ml-demo/babyweight/trained_mod...</td>\n",
       "      <td>1969-1973</td>\n",
       "      <td>7.099255</td>\n",
       "      <td>2.889484</td>\n",
       "    </tr>\n",
       "    <tr>\n",
       "      <th>1</th>\n",
       "      <td>gs://cloudonair-ml-demo/babyweight/trained_mod...</td>\n",
       "      <td>1974-1978</td>\n",
       "      <td>7.097674</td>\n",
       "      <td>4.989076</td>\n",
       "    </tr>\n",
       "    <tr>\n",
       "      <th>2</th>\n",
       "      <td>gs://cloudonair-ml-demo/babyweight/trained_mod...</td>\n",
       "      <td>1984-1988</td>\n",
       "      <td>7.208219</td>\n",
       "      <td>3.528221</td>\n",
       "    </tr>\n",
       "  </tbody>\n",
       "</table>\n",
       "</div>"
      ],
      "text/plain": [
       "                                               model   testdata      RMSE  \\\n",
       "0  gs://cloudonair-ml-demo/babyweight/trained_mod...  1969-1973  7.099255   \n",
       "1  gs://cloudonair-ml-demo/babyweight/trained_mod...  1974-1978  7.097674   \n",
       "2  gs://cloudonair-ml-demo/babyweight/trained_mod...  1984-1988  7.208219   \n",
       "\n",
       "    AVG_SEC  \n",
       "0  2.889484  \n",
       "1  4.989076  \n",
       "2  3.528221  "
      ]
     },
     "execution_count": 31,
     "metadata": {},
     "output_type": "execute_result"
    }
   ],
   "source": [
    "query = \"\"\"\n",
    "SELECT\n",
    "  model,\n",
    "  testdata,\n",
    "  SQRT(SUM(POW(weight_residual,2))/COUNT(*)) AS RMSE,\n",
    "  AVG(time_inference) AS AVG_SEC\n",
    "FROM\n",
    "  `{0}`\n",
    "GROUP BY\n",
    "  model, testdata\n",
    "\"\"\".format(os.environ['OUTPUT_TABLE'].replace(':', '.'))\n",
    "\n",
    "df = gbq.read_gbq(query=query, dialect='standard', project_id=os.environ['PROJECT'])\n",
    "df.head()"
   ]
  },
  {
   "cell_type": "markdown",
   "metadata": {},
   "source": [
    "### Configure Dataflow job"
   ]
  },
  {
   "cell_type": "code",
   "execution_count": 1,
   "metadata": {
    "collapsed": true
   },
   "outputs": [],
   "source": [
    "import os\n",
    "import datetime\n",
    "\n",
    "os.environ['RUNNER'] = 'DataflowRunner'\n",
    "os.environ['STAGING_LOCATION'] = 'gs://{0}/babyweight/staging'.format(os.environ['BUCKET'])\n",
    "os.environ['TEMP_LOCATION'] = 'gs://{0}/babyweight/temp'.format(os.environ['BUCKET'])\n",
    "os.environ['JOB_NAME'] = 'evaluate-ml-model-{0}'.format(datetime.datetime.now().strftime('%y%m%d-%H%M%S'))\n",
    "os.environ['SAVED_MODEL_DIR'] = 'gs://cloudonair-ml-demo/babyweight/trained_model/export/exporter/1526369461'\n",
    "os.environ['OUTPUT_TABLE'] = 'cloudonair-ml-demo:model_evaluation.prediction_results'"
   ]
  },
  {
   "cell_type": "markdown",
   "metadata": {},
   "source": [
    "### Execute Dataflow job"
   ]
  },
  {
   "cell_type": "code",
   "execution_count": 2,
   "metadata": {
    "scrolled": true
   },
   "outputs": [
    {
     "name": "stdout",
     "output_type": "stream",
     "text": [
      "running sdist\n",
      "running egg_info\n",
      "creating model_evaluation_demo.egg-info\n",
      "writing requirements to model_evaluation_demo.egg-info/requires.txt\n",
      "writing model_evaluation_demo.egg-info/PKG-INFO\n",
      "writing top-level names to model_evaluation_demo.egg-info/top_level.txt\n",
      "writing dependency_links to model_evaluation_demo.egg-info/dependency_links.txt\n",
      "writing manifest file 'model_evaluation_demo.egg-info/SOURCES.txt'\n",
      "reading manifest file 'model_evaluation_demo.egg-info/SOURCES.txt'\n",
      "writing manifest file 'model_evaluation_demo.egg-info/SOURCES.txt'\n",
      "running check\n",
      "creating model-evaluation-demo-0.1\n",
      "creating model-evaluation-demo-0.1/model_evaluation_demo.egg-info\n",
      "creating model-evaluation-demo-0.1/process\n",
      "copying files to model-evaluation-demo-0.1...\n",
      "copying setup.py -> model-evaluation-demo-0.1\n",
      "copying model_evaluation_demo.egg-info/PKG-INFO -> model-evaluation-demo-0.1/model_evaluation_demo.egg-info\n",
      "copying model_evaluation_demo.egg-info/SOURCES.txt -> model-evaluation-demo-0.1/model_evaluation_demo.egg-info\n",
      "copying model_evaluation_demo.egg-info/dependency_links.txt -> model-evaluation-demo-0.1/model_evaluation_demo.egg-info\n",
      "copying model_evaluation_demo.egg-info/requires.txt -> model-evaluation-demo-0.1/model_evaluation_demo.egg-info\n",
      "copying model_evaluation_demo.egg-info/top_level.txt -> model-evaluation-demo-0.1/model_evaluation_demo.egg-info\n",
      "copying process/__init__.py -> model-evaluation-demo-0.1/process\n",
      "copying process/inference.py -> model-evaluation-demo-0.1/process\n",
      "copying process/pipeline.py -> model-evaluation-demo-0.1/process\n",
      "Writing model-evaluation-demo-0.1/setup.cfg\n",
      "Creating tar archive\n",
      "removing 'model-evaluation-demo-0.1' (and everything under it)\n",
      "Collecting google-cloud-dataflow==2.4.0\n",
      "  Using cached https://files.pythonhosted.org/packages/3b/6b/165eb940a26b16ee27cee2643938e23955c54f6042e7e241b2d6afea8cea/google-cloud-dataflow-2.4.0.tar.gz\n",
      "  Saved /tmp/tmpCcekPV/google-cloud-dataflow-2.4.0.tar.gz\n",
      "Successfully downloaded google-cloud-dataflow\n"
     ]
    },
    {
     "name": "stderr",
     "output_type": "stream",
     "text": [
      "/usr/local/google/home/yaboo/Resources/anaconda2/lib/python2.7/site-packages/py/_code/_assertionold.py:3: DeprecationWarning: The compiler package is deprecated and removed in Python 3.x.\n",
      "  from compiler import parse, ast, pycodegen\n",
      "INFO:root:Starting GCS upload to gs://cloudonair-ml-demo/babyweight/staging/evaluate-ml-model-180515-225339.1526392426.514969/pipeline.pb...\n",
      "INFO:oauth2client.transport:Attempting refresh to obtain initial access_token\n",
      "INFO:oauth2client.client:Refreshing access_token\n",
      "INFO:root:Completed GCS upload to gs://cloudonair-ml-demo/babyweight/staging/evaluate-ml-model-180515-225339.1526392426.514969/pipeline.pb\n",
      "INFO:root:Executing command: ['/usr/local/google/home/yaboo/Resources/anaconda2/bin/python', 'setup.py', 'sdist', '--dist-dir', '/tmp/tmpCcekPV']\n",
      "warning: sdist: standard file not found: should have one of README, README.rst, README.txt, README.md\n",
      "\n",
      "warning: check: missing required meta-data: url\n",
      "\n",
      "INFO:root:Starting GCS upload to gs://cloudonair-ml-demo/babyweight/staging/evaluate-ml-model-180515-225339.1526392426.514969/workflow.tar.gz...\n",
      "INFO:root:Completed GCS upload to gs://cloudonair-ml-demo/babyweight/staging/evaluate-ml-model-180515-225339.1526392426.514969/workflow.tar.gz\n",
      "INFO:root:Starting GCS upload to gs://cloudonair-ml-demo/babyweight/staging/evaluate-ml-model-180515-225339.1526392426.514969/pickled_main_session...\n",
      "INFO:root:Completed GCS upload to gs://cloudonair-ml-demo/babyweight/staging/evaluate-ml-model-180515-225339.1526392426.514969/pickled_main_session\n",
      "INFO:root:Staging the SDK tarball from PyPI to gs://cloudonair-ml-demo/babyweight/staging/evaluate-ml-model-180515-225339.1526392426.514969/dataflow_python_sdk.tar\n",
      "INFO:root:Executing command: ['/usr/local/google/home/yaboo/Resources/anaconda2/bin/python', '-m', 'pip', 'download', '--dest', '/tmp/tmpCcekPV', 'google-cloud-dataflow==2.4.0', '--no-binary', ':all:', '--no-deps']\n",
      "  Cache entry deserialization failed, entry ignored\n",
      "You are using pip version 9.0.1, however version 10.0.1 is available.\n",
      "You should consider upgrading via the 'pip install --upgrade pip' command.\n",
      "INFO:root:file copy from /tmp/tmpCcekPV/google-cloud-dataflow-2.4.0.tar.gz to gs://cloudonair-ml-demo/babyweight/staging/evaluate-ml-model-180515-225339.1526392426.514969/dataflow_python_sdk.tar.\n",
      "/usr/local/google/home/yaboo/Resources/anaconda2/lib/python2.7/site-packages/apache_beam/io/gcp/gcsio.py:166: DeprecationWarning: object() takes no parameters\n",
      "  super(GcsIO, cls).__new__(cls, storage_client))\n",
      "INFO:oauth2client.transport:Attempting refresh to obtain initial access_token\n",
      "INFO:oauth2client.client:Refreshing access_token\n",
      "INFO:root:Create job: <Job\n",
      " createTime: u'2018-05-15T13:53:52.869840Z'\n",
      " currentStateTime: u'1970-01-01T00:00:00Z'\n",
      " id: u'2018-05-15_06_53_51-15926016094132484851'\n",
      " location: u'us-central1'\n",
      " name: u'evaluate-ml-model-180515-225339'\n",
      " projectId: u'cloudonair-ml-demo'\n",
      " stageStates: []\n",
      " steps: []\n",
      " tempFiles: []\n",
      " type: TypeValueValuesEnum(JOB_TYPE_BATCH, 1)>\n",
      "INFO:root:Created job with id: [2018-05-15_06_53_51-15926016094132484851]\n",
      "INFO:root:To access the Dataflow monitoring console, please navigate to https://console.cloud.google.com/dataflow/jobsDetail/locations/us-central1/jobs/2018-05-15_06_53_51-15926016094132484851?project=cloudonair-ml-demo\n"
     ]
    }
   ],
   "source": [
    "%%bash\n",
    "\n",
    "cd $(pwd)/model_evaluation_pipeline/evaluator\n",
    "\n",
    "python -m main \\\n",
    "  --datasize=100 \\\n",
    "  --year_from=1969 \\\n",
    "  --year_to=1973 \\\n",
    "  --saved_model_dir=${SAVED_MODEL_DIR} \\\n",
    "  --output_table=${OUTPUT_TABLE} \\\n",
    "  --project=${PROJECT} \\\n",
    "  --runner=${RUNNER} \\\n",
    "  --region=${REGION} \\\n",
    "  --staging_location=${STAGING_LOCATION} \\\n",
    "  --temp_location=${TEMP_LOCATION} \\\n",
    "  --job_name=${JOB_NAME} \\\n",
    "  --setup_file=$(pwd)/setup.py"
   ]
  },
  {
   "cell_type": "code",
   "execution_count": null,
   "metadata": {
    "collapsed": true
   },
   "outputs": [],
   "source": [
    "query = \"\"\"\n",
    "SELECT\n",
    "  model,\n",
    "  testdata,\n",
    "  SQRT(SUM(POW(weight_residual,2))/COUNT(*)) AS RMSE,\n",
    "  AVG(time_inference) AS AVG_SEC\n",
    "FROM\n",
    "  `{0}`\n",
    "GROUP BY\n",
    "  model, testdata\n",
    "\"\"\".format(os.environ['OUTPUT_TABLE'].replace(':', '.'))\n",
    "\n",
    "df = gbq.read_gbq(query=query, dialect='standard', project_id=os.environ['PROJECT'])\n",
    "df.head()"
   ]
  }
 ],
 "metadata": {
  "kernelspec": {
   "display_name": "Python 2",
   "language": "python",
   "name": "python2"
  },
  "language_info": {
   "codemirror_mode": {
    "name": "ipython",
    "version": 2
   },
   "file_extension": ".py",
   "mimetype": "text/x-python",
   "name": "python",
   "nbconvert_exporter": "python",
   "pygments_lexer": "ipython2",
   "version": "2.7.13"
  }
 },
 "nbformat": 4,
 "nbformat_minor": 2
}
